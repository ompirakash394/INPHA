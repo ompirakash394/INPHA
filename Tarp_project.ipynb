{
  "cells": [
    {
      "cell_type": "code",
      "execution_count": null,
      "metadata": {
        "colab": {
          "base_uri": "https://localhost:8080/",
          "height": 437
        },
        "id": "h5nyfFvpCdST",
        "outputId": "9107e120-cbea-4d78-a985-3d2088846079"
      },
      "outputs": [
        {
          "name": "stdout",
          "output_type": "stream",
          "text": [
            "Collecting anvil-uplink\n",
            "  Downloading anvil_uplink-0.3.42-py2.py3-none-any.whl (64 kB)\n",
            "\u001b[?25l\r\u001b[K     |█████                           | 10 kB 20.2 MB/s eta 0:00:01\r\u001b[K     |██████████▏                     | 20 kB 11.0 MB/s eta 0:00:01\r\u001b[K     |███████████████▏                | 30 kB 9.2 MB/s eta 0:00:01\r\u001b[K     |████████████████████▎           | 40 kB 8.2 MB/s eta 0:00:01\r\u001b[K     |█████████████████████████▎      | 51 kB 4.4 MB/s eta 0:00:01\r\u001b[K     |██████████████████████████████▍ | 61 kB 5.2 MB/s eta 0:00:01\r\u001b[K     |████████████████████████████████| 64 kB 2.1 MB/s \n",
            "\u001b[?25hRequirement already satisfied: six in /usr/local/lib/python3.7/dist-packages (from anvil-uplink) (1.15.0)\n",
            "Collecting ws4py\n",
            "  Downloading ws4py-0.5.1.tar.gz (51 kB)\n",
            "\u001b[K     |████████████████████████████████| 51 kB 185 kB/s \n",
            "\u001b[?25hRequirement already satisfied: future in /usr/local/lib/python3.7/dist-packages (from anvil-uplink) (0.16.0)\n",
            "Collecting argparse\n",
            "  Downloading argparse-1.4.0-py2.py3-none-any.whl (23 kB)\n",
            "Building wheels for collected packages: ws4py\n",
            "  Building wheel for ws4py (setup.py) ... \u001b[?25l\u001b[?25hdone\n",
            "  Created wheel for ws4py: filename=ws4py-0.5.1-py3-none-any.whl size=45229 sha256=c9946368b247f0ea53006c6a542c99be1f92e198e0e09f3e4a8c9fa1c6b67195\n",
            "  Stored in directory: /root/.cache/pip/wheels/29/ea/7d/3410aa0aa0e4402ead9a7a97ab2214804887e0f5c2b76f0c96\n",
            "Successfully built ws4py\n",
            "Installing collected packages: ws4py, argparse, anvil-uplink\n",
            "Successfully installed anvil-uplink-0.3.42 argparse-1.4.0 ws4py-0.5.1\n"
          ]
        },
        {
          "data": {
            "application/vnd.colab-display-data+json": {
              "pip_warning": {
                "packages": [
                  "argparse",
                  "google"
                ]
              }
            }
          },
          "metadata": {},
          "output_type": "display_data"
        }
      ],
      "source": [
        "!pip install anvil-uplink"
      ]
    },
    {
      "cell_type": "code",
      "execution_count": null,
      "metadata": {
        "id": "4XT1KdgB6V2Z"
      },
      "outputs": [],
      "source": [
        "import pandas as pd\n",
        "import numpy as np"
      ]
    },
    {
      "cell_type": "code",
      "execution_count": null,
      "metadata": {
        "id": "oY8-D-ndChFw"
      },
      "outputs": [],
      "source": [
        "import anvil.server"
      ]
    },
    {
      "cell_type": "code",
      "execution_count": null,
      "metadata": {
        "colab": {
          "base_uri": "https://localhost:8080/"
        },
        "id": "EiEr-tRACkNO",
        "outputId": "4dfc3e64-6d59-49f7-a468-6937609f5d61"
      },
      "outputs": [
        {
          "name": "stdout",
          "output_type": "stream",
          "text": [
            "Connecting to wss://anvil.works/uplink\n",
            "Anvil websocket open\n",
            "Connected to \"Default environment\" as SERVER\n"
          ]
        }
      ],
      "source": [
        "anvil.server.connect(\"U7ZZGDPBK4BJXCYFDKUEPOBZ-YP6JAXX244DEFQS6\")"
      ]
    },
    {
      "cell_type": "code",
      "execution_count": null,
      "metadata": {
        "id": "6uIkBbyi5JiH"
      },
      "outputs": [],
      "source": [
        "dataset=pd.read_excel(\"/content/drive/MyDrive/Tarp data/BG_Food.xlsx\", sheet_name=0)\n",
        "df = pd.read_excel(\"/content/drive/MyDrive/Tarp data/diab.xlsx\", sheet_name=0)\n",
        "food_Ysuit = set()\n",
        "food_Nsuit = set()\n",
        "food_Csuit = set()"
      ]
    },
    {
      "cell_type": "code",
      "execution_count": null,
      "metadata": {
        "colab": {
          "base_uri": "https://localhost:8080/",
          "height": 206
        },
        "id": "dx6vBBFOdKoH",
        "outputId": "49eb1107-87a0-4afb-ceca-cb6abd1dd608"
      },
      "outputs": [
        {
          "data": {
            "text/html": [
              "\n",
              "  <div id=\"df-9219329a-ced7-4a11-9e58-5ba0d336804d\">\n",
              "    <div class=\"colab-df-container\">\n",
              "      <div>\n",
              "<style scoped>\n",
              "    .dataframe tbody tr th:only-of-type {\n",
              "        vertical-align: middle;\n",
              "    }\n",
              "\n",
              "    .dataframe tbody tr th {\n",
              "        vertical-align: top;\n",
              "    }\n",
              "\n",
              "    .dataframe thead th {\n",
              "        text-align: right;\n",
              "    }\n",
              "</style>\n",
              "<table border=\"1\" class=\"dataframe\">\n",
              "  <thead>\n",
              "    <tr style=\"text-align: right;\">\n",
              "      <th></th>\n",
              "      <th>Age</th>\n",
              "      <th>F</th>\n",
              "      <th>M</th>\n",
              "      <th>AB</th>\n",
              "      <th>B</th>\n",
              "      <th>O</th>\n",
              "      <th>A</th>\n",
              "      <th>High BP</th>\n",
              "      <th>Low BP</th>\n",
              "      <th>Normal</th>\n",
              "      <th>bmi</th>\n",
              "      <th>Diabeties</th>\n",
              "    </tr>\n",
              "  </thead>\n",
              "  <tbody>\n",
              "    <tr>\n",
              "      <th>0</th>\n",
              "      <td>23.0</td>\n",
              "      <td>0.0</td>\n",
              "      <td>1.0</td>\n",
              "      <td>0.0</td>\n",
              "      <td>0.0</td>\n",
              "      <td>1.0</td>\n",
              "      <td>0.0</td>\n",
              "      <td>1.0</td>\n",
              "      <td>0.0</td>\n",
              "      <td>0.0</td>\n",
              "      <td>28.0</td>\n",
              "      <td>0.0</td>\n",
              "    </tr>\n",
              "    <tr>\n",
              "      <th>1</th>\n",
              "      <td>22.0</td>\n",
              "      <td>0.0</td>\n",
              "      <td>1.0</td>\n",
              "      <td>0.0</td>\n",
              "      <td>1.0</td>\n",
              "      <td>0.0</td>\n",
              "      <td>0.0</td>\n",
              "      <td>0.0</td>\n",
              "      <td>1.0</td>\n",
              "      <td>0.0</td>\n",
              "      <td>24.0</td>\n",
              "      <td>1.0</td>\n",
              "    </tr>\n",
              "    <tr>\n",
              "      <th>2</th>\n",
              "      <td>22.0</td>\n",
              "      <td>1.0</td>\n",
              "      <td>0.0</td>\n",
              "      <td>0.0</td>\n",
              "      <td>1.0</td>\n",
              "      <td>0.0</td>\n",
              "      <td>0.0</td>\n",
              "      <td>0.0</td>\n",
              "      <td>0.0</td>\n",
              "      <td>1.0</td>\n",
              "      <td>27.0</td>\n",
              "      <td>1.0</td>\n",
              "    </tr>\n",
              "    <tr>\n",
              "      <th>3</th>\n",
              "      <td>26.0</td>\n",
              "      <td>0.0</td>\n",
              "      <td>1.0</td>\n",
              "      <td>1.0</td>\n",
              "      <td>0.0</td>\n",
              "      <td>0.0</td>\n",
              "      <td>0.0</td>\n",
              "      <td>0.0</td>\n",
              "      <td>0.0</td>\n",
              "      <td>1.0</td>\n",
              "      <td>21.0</td>\n",
              "      <td>1.0</td>\n",
              "    </tr>\n",
              "    <tr>\n",
              "      <th>4</th>\n",
              "      <td>24.0</td>\n",
              "      <td>1.0</td>\n",
              "      <td>0.0</td>\n",
              "      <td>0.0</td>\n",
              "      <td>0.0</td>\n",
              "      <td>0.0</td>\n",
              "      <td>1.0</td>\n",
              "      <td>0.0</td>\n",
              "      <td>1.0</td>\n",
              "      <td>0.0</td>\n",
              "      <td>20.0</td>\n",
              "      <td>1.0</td>\n",
              "    </tr>\n",
              "  </tbody>\n",
              "</table>\n",
              "</div>\n",
              "      <button class=\"colab-df-convert\" onclick=\"convertToInteractive('df-9219329a-ced7-4a11-9e58-5ba0d336804d')\"\n",
              "              title=\"Convert this dataframe to an interactive table.\"\n",
              "              style=\"display:none;\">\n",
              "        \n",
              "  <svg xmlns=\"http://www.w3.org/2000/svg\" height=\"24px\"viewBox=\"0 0 24 24\"\n",
              "       width=\"24px\">\n",
              "    <path d=\"M0 0h24v24H0V0z\" fill=\"none\"/>\n",
              "    <path d=\"M18.56 5.44l.94 2.06.94-2.06 2.06-.94-2.06-.94-.94-2.06-.94 2.06-2.06.94zm-11 1L8.5 8.5l.94-2.06 2.06-.94-2.06-.94L8.5 2.5l-.94 2.06-2.06.94zm10 10l.94 2.06.94-2.06 2.06-.94-2.06-.94-.94-2.06-.94 2.06-2.06.94z\"/><path d=\"M17.41 7.96l-1.37-1.37c-.4-.4-.92-.59-1.43-.59-.52 0-1.04.2-1.43.59L10.3 9.45l-7.72 7.72c-.78.78-.78 2.05 0 2.83L4 21.41c.39.39.9.59 1.41.59.51 0 1.02-.2 1.41-.59l7.78-7.78 2.81-2.81c.8-.78.8-2.07 0-2.86zM5.41 20L4 18.59l7.72-7.72 1.47 1.35L5.41 20z\"/>\n",
              "  </svg>\n",
              "      </button>\n",
              "      \n",
              "  <style>\n",
              "    .colab-df-container {\n",
              "      display:flex;\n",
              "      flex-wrap:wrap;\n",
              "      gap: 12px;\n",
              "    }\n",
              "\n",
              "    .colab-df-convert {\n",
              "      background-color: #E8F0FE;\n",
              "      border: none;\n",
              "      border-radius: 50%;\n",
              "      cursor: pointer;\n",
              "      display: none;\n",
              "      fill: #1967D2;\n",
              "      height: 32px;\n",
              "      padding: 0 0 0 0;\n",
              "      width: 32px;\n",
              "    }\n",
              "\n",
              "    .colab-df-convert:hover {\n",
              "      background-color: #E2EBFA;\n",
              "      box-shadow: 0px 1px 2px rgba(60, 64, 67, 0.3), 0px 1px 3px 1px rgba(60, 64, 67, 0.15);\n",
              "      fill: #174EA6;\n",
              "    }\n",
              "\n",
              "    [theme=dark] .colab-df-convert {\n",
              "      background-color: #3B4455;\n",
              "      fill: #D2E3FC;\n",
              "    }\n",
              "\n",
              "    [theme=dark] .colab-df-convert:hover {\n",
              "      background-color: #434B5C;\n",
              "      box-shadow: 0px 1px 3px 1px rgba(0, 0, 0, 0.15);\n",
              "      filter: drop-shadow(0px 1px 2px rgba(0, 0, 0, 0.3));\n",
              "      fill: #FFFFFF;\n",
              "    }\n",
              "  </style>\n",
              "\n",
              "      <script>\n",
              "        const buttonEl =\n",
              "          document.querySelector('#df-9219329a-ced7-4a11-9e58-5ba0d336804d button.colab-df-convert');\n",
              "        buttonEl.style.display =\n",
              "          google.colab.kernel.accessAllowed ? 'block' : 'none';\n",
              "\n",
              "        async function convertToInteractive(key) {\n",
              "          const element = document.querySelector('#df-9219329a-ced7-4a11-9e58-5ba0d336804d');\n",
              "          const dataTable =\n",
              "            await google.colab.kernel.invokeFunction('convertToInteractive',\n",
              "                                                     [key], {});\n",
              "          if (!dataTable) return;\n",
              "\n",
              "          const docLinkHtml = 'Like what you see? Visit the ' +\n",
              "            '<a target=\"_blank\" href=https://colab.research.google.com/notebooks/data_table.ipynb>data table notebook</a>'\n",
              "            + ' to learn more about interactive tables.';\n",
              "          element.innerHTML = '';\n",
              "          dataTable['output_type'] = 'display_data';\n",
              "          await google.colab.output.renderOutput(dataTable, element);\n",
              "          const docLink = document.createElement('div');\n",
              "          docLink.innerHTML = docLinkHtml;\n",
              "          element.appendChild(docLink);\n",
              "        }\n",
              "      </script>\n",
              "    </div>\n",
              "  </div>\n",
              "  "
            ],
            "text/plain": [
              "    Age    F    M   AB    B    O    A  High BP  Low BP  Normal   bmi  \\\n",
              "0  23.0  0.0  1.0  0.0  0.0  1.0  0.0      1.0     0.0     0.0  28.0   \n",
              "1  22.0  0.0  1.0  0.0  1.0  0.0  0.0      0.0     1.0     0.0  24.0   \n",
              "2  22.0  1.0  0.0  0.0  1.0  0.0  0.0      0.0     0.0     1.0  27.0   \n",
              "3  26.0  0.0  1.0  1.0  0.0  0.0  0.0      0.0     0.0     1.0  21.0   \n",
              "4  24.0  1.0  0.0  0.0  0.0  0.0  1.0      0.0     1.0     0.0  20.0   \n",
              "\n",
              "   Diabeties  \n",
              "0        0.0  \n",
              "1        1.0  \n",
              "2        1.0  \n",
              "3        1.0  \n",
              "4        1.0  "
            ]
          },
          "execution_count": 6,
          "metadata": {},
          "output_type": "execute_result"
        }
      ],
      "source": [
        "df.head()"
      ]
    },
    {
      "cell_type": "code",
      "execution_count": null,
      "metadata": {
        "id": "MxvMtlt66MyV"
      },
      "outputs": [],
      "source": [
        "def checkbg(bg):\n",
        "    if(bg==\"A\"):\n",
        "        outy='GROUP A'\n",
        "    elif(bg==\"B\"):\n",
        "        outy='GROUP B'\n",
        "    elif(bg==\"O\"):\n",
        "        outy='GROUP O'\n",
        "    elif(bg==\"AB\"):\n",
        "        outy='GROUP AB'\n",
        "    food_Ysuit.update(set(list(dataset[dataset[outy]==\"H\"][\"FOOD\"])))\n",
        "    food_Nsuit.update(set(list(dataset[dataset[outy]==\"L\"][\"FOOD\"])))\n",
        "    food_Csuit.update(set(list(dataset[dataset[outy]==\"M\"][\"FOOD\"])))"
      ]
    },
    {
      "cell_type": "code",
      "execution_count": null,
      "metadata": {
        "id": "z9pwp9vb6Kn4"
      },
      "outputs": [],
      "source": [
        "def checkbp(bp):\n",
        "    if(bp.lower()==\"high bp\"):\n",
        "        food_Ysuit.intersection_update(set(dataset[dataset[\"BP_EAT\"]==\"Y\"][\"FOOD\"]))\n",
        "        food_Nsuit.union(set(dataset[dataset[\"BP_EAT\"]==\"N\"][\"FOOD\"]))\n",
        "        food_Csuit.union(set(dataset[dataset[\"BP_EAT\"]==\"C\"][\"FOOD\"]))\n",
        "    elif(bp.lower()==\"low bp\"):\n",
        "        food_Ysuit.intersection_update(set(dataset[dataset[\"BP_EAT\"]==\"N\"][\"FOOD\"]))\n",
        "        food_Csuit.union(set(dataset[dataset[\"BP_EAT\"]!=\"N\"][\"FOOD\"]))\n",
        "    elif(bp.lower()==\"normal\"):\n",
        "        food_Ysuit.intersection_update(set(dataset[\"FOOD\"].dropna()))"
      ]
    },
    {
      "cell_type": "code",
      "execution_count": null,
      "metadata": {
        "id": "whJ8x_PUq46K"
      },
      "outputs": [],
      "source": [
        "import sklearn\n",
        "x = df.iloc[:,:-1]\n",
        "y = df.iloc[:,12:13]\n",
        "from sklearn.model_selection import train_test_split\n",
        "xtrain,xtest,ytrain,ytest = train_test_split(x,y,test_size=0.25,random_state=0)\n",
        "def LogReg():\n",
        "    from sklearn.linear_model import LogisticRegression\n",
        "    clf=LogisticRegression()\n",
        "    clf.fit(xtrain,ytrain)\n",
        "    y_pred=clf.predict(xtest)\n",
        "    from sklearn.metrics import accuracy_score\n",
        "    acc_log=accuracy_score(y_pred, ytest)*100\n",
        "    from sklearn.metrics import confusion_matrix\n",
        "    c3=confusion_matrix(ytest,y_pred)\n",
        "    print(c3)\n",
        "    return acc_log"
      ]
    },
    {
      "cell_type": "code",
      "execution_count": null,
      "metadata": {
        "id": "Svo9eDpT6IZV"
      },
      "outputs": [],
      "source": [
        "def checkdia(dia):\n",
        "    if(dia.lower()==\"yes\"):\n",
        "        food_Ysuit.intersection_update(set(dataset[dataset[\"DIA_EAT\"]==\"Y\"][\"FOOD\"]))\n",
        "        food_Nsuit.union(set(dataset[dataset[\"DIA_EAT\"]==\"N\"][\"FOOD\"]))\n",
        "        food_Csuit.union(set(dataset[dataset[\"DIA_EAT\"]==\"C\"][\"FOOD\"]))\n",
        "    elif(dia.lower()==\"no\"):\n",
        "        food_Ysuit.intersection_update(set(dataset[\"FOOD\"]))"
      ]
    },
    {
      "cell_type": "code",
      "execution_count": null,
      "metadata": {
        "id": "PR5ElK0w6GCu"
      },
      "outputs": [],
      "source": [
        "def checkweight(weight):\n",
        "    weight=int(weight)\n",
        "    if(weight<=24.9 and weight>=18.5):\n",
        "        food_Ysuit.intersection_update(set(dataset[\"FOOD\"]))\n",
        "    elif(weight>24.9):\n",
        "        food_Ysuit.intersection_update(set(dataset[dataset[\"HB\"]==\"Y\"][\"FOOD\"]))\n",
        "        food_Nsuit.union(set(dataset[dataset[\"HB\"]==\"N\"][\"FOOD\"]))\n",
        "        food_Csuit.union(set(dataset[dataset[\"HB\"]==\"C\"][\"FOOD\"]))\n",
        "    elif(weight<18.5):\n",
        "        food_Ysuit.intersection_update(set(dataset[dataset[\"HB\"]!=\"Y\"][\"FOOD\"]))\n",
        "        food_Nsuit.union(set(dataset[dataset[\"HB\"]==\"Y\"][\"FOOD\"]))\n",
        "    else:\n",
        "        return \"input error retype the input weight(in kgs)\"\n",
        "    return \"\""
      ]
    },
    {
      "cell_type": "code",
      "execution_count": null,
      "metadata": {
        "id": "78nNAMkpC8jb"
      },
      "outputs": [],
      "source": [
        "@anvil.server.callable\n",
        "def predict_answer(BP,BG,Dia,Weight):\n",
        "    checkbg(BG)\n",
        "    checkbp(BP)\n",
        "    checkdia(Dia)\n",
        "    r4 = checkweight(Weight)\n",
        "  #checkweight(Weight)\n",
        "    a1=\" food that suits you--->\"+\", \".join(list(food_Ysuit))\n",
        "    a2=\" food that should be taken with caution/limited---->\"+\", \".join(list(food_Csuit))\n",
        "    a3=\" food that should be avoided---->\"+\", \".join(list(food_Nsuit))\n",
        "    return \"The suitable diet for you is\"+a1+\"\\n\\n\"+a2+\"\\n\\n\"+a3\n",
        "anvil.server.wait_forever()"
      ]
    },
    {
      "cell_type": "code",
      "execution_count": null,
      "metadata": {
        "id": "oNhf81iTW4rX"
      },
      "outputs": [],
      "source": [
        "\" food that suits you--->\"+\", \".join(list(food_Ysuit))"
      ]
    },
    {
      "cell_type": "code",
      "execution_count": null,
      "metadata": {
        "id": "Dl-Q_HRRGLaT"
      },
      "outputs": [],
      "source": [
        "print(predict_answer(\"low bp\",\"AB\",\"yes\",32))"
      ]
    },
    {
      "cell_type": "code",
      "execution_count": null,
      "metadata": {
        "id": "IzrG2HkO6A8b"
      },
      "outputs": [],
      "source": [
        "print(\"helllo welcome to \\\"the best food that suits you\\\"!!\")\n",
        "print(\"we need the following data for the validation and analysis\")\n",
        "print(\"your sweet name pls  :\")\n",
        "name.append(((input().casefold()).capitalize()))\n",
        "print(\"blood group(AB/O/A/B)\")\n",
        "bg.append(input().upper())\n",
        "print(\"blood pressure presence(hBP/lowBP/norml)\")\n",
        "bp.append(input().lower())\n",
        "print(\"diabetes presence(y/n)\")\n",
        "dia.append(input())\n",
        "print(\"weight(in kgs)\")\n",
        "try:\n",
        "    def wi():\n",
        "        weight.append(int(input()))\n",
        "    wi()\n",
        "except:\n",
        "    print(\"retype the input\")\n",
        "print(\"the best food that suits you are\")\n",
        "checkbg()\n",
        "checkbp()\n",
        "checkdia()\n",
        "checkweight()"
      ]
    },
    {
      "cell_type": "code",
      "execution_count": null,
      "metadata": {
        "id": "EG789L9u3pf_"
      },
      "outputs": [],
      "source": [
        "import sklearn\n",
        "import random\n",
        "x = df.iloc[:,:-1]\n",
        "y = df.iloc[:,12:13]\n",
        "from sklearn.model_selection import train_test_split\n",
        "xtrain,xtest,ytrain,ytest = train_test_split(x,y,test_size=0.001,random_state=1)"
      ]
    },
    {
      "cell_type": "code",
      "execution_count": null,
      "metadata": {
        "id": "N7K_nErUZ7k0"
      },
      "outputs": [],
      "source": [
        "@anvil.server.callable\n",
        "def predict_dia(BP,BG,BMI,Age,Gender):\n",
        "  A = (BG ==\"A\")\n",
        "  AB = (BG ==\"AB\")\n",
        "  B = (BG ==\"B\")\n",
        "  O = (BG ==\"O\")\n",
        "  age =int(Age)\n",
        "  high_bp = (BP == \"High BP\")\n",
        "  low_bp = (BP == \"Low BP\")\n",
        "  normal = (BP== \"Normal\")\n",
        "  bmi = BMI\n",
        "  Male = (Gender==\"Male\")\n",
        "  Female =(Gender ==\"Female\")\n",
        "  return random.randint(0,1)\n",
        "anvil.server.wait_forever()"
      ]
    },
    {
      "cell_type": "code",
      "execution_count": null,
      "metadata": {
        "id": "4cv7y3-OeP-6"
      },
      "outputs": [],
      "source": [
        "xtrain.head()\n",
        " from sklearn.linear_model import LogisticRegression\n",
        "  clf=LogisticRegression()\n",
        "  clf.fit(xtrain,ytrain)\n",
        "  a =np.array([age,Female,Male,AB,B,O,A,high_bp,low_bp,bmi]).reshape(1,-1)\n",
        "  y_pred=clf.predict(a)\n",
        "  return y_pred"
      ]
    },
    {
      "cell_type": "code",
      "execution_count": null,
      "metadata": {
        "id": "sV2lArL8gMD8"
      },
      "outputs": [],
      "source": [
        "print(predict_dia(\"High BP\",\"A\",20,50,\"Male\"))"
      ]
    }
  ],
  "metadata": {
    "colab": {
      "provenance": []
    },
    "gpuClass": "standard",
    "kernelspec": {
      "display_name": "Python 3",
      "name": "python3"
    },
    "language_info": {
      "name": "python"
    }
  },
  "nbformat": 4,
  "nbformat_minor": 0
}
